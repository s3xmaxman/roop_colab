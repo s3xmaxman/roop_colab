{
  "nbformat": 4,
  "nbformat_minor": 0,
  "metadata": {
    "colab": {
      "provenance": [],
      "gpuType": "T4"
    },
    "kernelspec": {
      "name": "python3",
      "display_name": "Python 3"
    },
    "language_info": {
      "name": "python"
    },
    "accelerator": "GPU"
  },
  "cells": [
    {
      "cell_type": "code",
      "execution_count": null,
      "metadata": {
        "id": "ZYNKPQKZFd9E",
        "cellView": "form"
      },
      "outputs": [],
      "source": [
        "#@title **Install/インストール**\n",
        "!git clone https://github.com/s0md3v/roop.git\n",
        "%cd roop\n",
        "!pip install -r requirements.txt\n"
      ]
    },
    {
      "cell_type": "code",
      "source": [
        "#@title Swap face/スワップフェイス\n",
        "\n",
        "face_image = \"face.png\"  # @param {type:\"string\"}\n",
        "video_file = \"video.mp4\"  # @param {type:\"string\"}\n",
        "output_vid = \"output.mp4\"  # @param {type:\"string\"}\n",
        "\n",
        "\n",
        "!python run.py -s $face_image -t $video_file -o $output_vid  --keep-frames --keep-fps --video-quality 30 --execution-provider cuda --frame-processor face_swapper face_enhancer"
      ],
      "metadata": {
        "id": "RUqtBqGTyike",
        "cellView": "form"
      },
      "execution_count": null,
      "outputs": []
    }
  ]
}